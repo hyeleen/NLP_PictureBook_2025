{
  "nbformat": 4,
  "nbformat_minor": 0,
  "metadata": {
    "colab": {
      "provenance": [],
      "include_colab_link": true
    },
    "kernelspec": {
      "name": "python3",
      "display_name": "Python 3"
    },
    "language_info": {
      "name": "python"
    }
  },
  "cells": [
    {
      "cell_type": "markdown",
      "metadata": {
        "id": "view-in-github",
        "colab_type": "text"
      },
      "source": [
        "<a href=\"https://colab.research.google.com/github/hyeleen/NLP_PictureBook_2025/blob/main/10_sample_makeinputtextfile4furthernalysis_tokencleanlowerapplied.ipynb\" target=\"_parent\"><img src=\"https://colab.research.google.com/assets/colab-badge.svg\" alt=\"Open In Colab\"/></a>"
      ]
    },
    {
      "cell_type": "markdown",
      "source": [
        "#1️⃣ <font color = 'red'> 🐹🐾 **Final Script to prepare input text for further analysis (e.g., Wordcloud, Lexical Diversity, etc.)**\n",
        "\n",
        "  - # <font color = 'blue'> 🐹🐾 **Important & Useful!**\n",
        "  - ### **This script is based on plain text for \"Household Stories by the Brothers Grimm\" under the Repository of \"PictureBook_Archive_inProgress\".**"
      ],
      "metadata": {
        "id": "DlRtfSQYdex6"
      }
    },
    {
      "cell_type": "code",
      "execution_count": null,
      "metadata": {
        "colab": {
          "base_uri": "https://localhost:8080/"
        },
        "id": "GT0LsgO85fCm",
        "outputId": "0b14d69a-0b3e-4a5f-e4e9-b6ccea4b254b"
      },
      "outputs": [
        {
          "output_type": "stream",
          "name": "stdout",
          "text": [
            "/bin/bash: line 1: /content/NLP_PictureBook_2025/Data_PG_PT/2_NurseryRyme_Body_LeslieBrooke.txt: Permission denied\n"
          ]
        }
      ],
      "source": [
        "! /content/NLP_PictureBook_2025/Data_PG_PT/2_NurseryRyme_Body_LeslieBrooke.txt #Make copy of the whole repository of a github account."
      ]
    },
    {
      "cell_type": "markdown",
      "source": [
        "##<font color = 'red'> 🆘 **ALERT**\n",
        "## <font color = 'red'> 🆘 **Important & Useful!**\n",
        "\n",
        "## ⤵️ In order to avoid setting a new repository being created as a subdirectory of the old one\n",
        "\n",
        "### <font color = 'blue'> <Python code>\n",
        "### <font color = 'blue'> %cd /content  # Moves to the default root directory in Google Colab\n",
        "\n",
        "## ⤵️ In order to delete the old directory forcefully\n",
        "\n",
        "### <font color = 'blue'> **▶️ Python code**\n",
        "### <font color = 'gray'> **! rm -rf NameofOldRepository**          \n",
        "\n",
        "### <font color = 'gray'> (e.g., **! rm -rf NLP_PictureBook_2025**)\n",
        "\n",
        "# **If this is not working out, rename the old, existing folder as <Eliminated> and drag the new repository under %content/.**\n"
      ],
      "metadata": {
        "id": "fPmvcdN0KP_0"
      }
    },
    {
      "cell_type": "markdown",
      "source": [
        "#2️⃣ 🐹🐾 **Set up the current directory**"
      ],
      "metadata": {
        "id": "7l39aMcg6QF8"
      }
    },
    {
      "cell_type": "code",
      "source": [
        "%cd /content/NLP_PictureBook_2025/Data_PG_PT/2_NurseryRyme_Body_LeslieBrooke.txt"
      ],
      "metadata": {
        "colab": {
          "base_uri": "https://localhost:8080/"
        },
        "id": "NyQD9Oxo7Me6",
        "outputId": "96b96570-733a-447d-91a9-5dbda3a85d6b"
      },
      "execution_count": null,
      "outputs": [
        {
          "output_type": "stream",
          "name": "stdout",
          "text": [
            "[Errno 20] Not a directory: '/content/NLP_PictureBook_2025/Data_PG_PT/2_NurseryRyme_Body_LeslieBrooke.txt'\n",
            "/content/NLP_PictureBook_2025\n"
          ]
        }
      ]
    },
    {
      "cell_type": "markdown",
      "source": [
        "#3️⃣ 🐹🐾 **Read the txt file**"
      ],
      "metadata": {
        "id": "ugQTa2Md66W5"
      }
    },
    {
      "cell_type": "code",
      "source": [
        "# ▶️ Step 1: You need to modify this codeline 🍩🎂🍎🍏🍦\n",
        "file = open(\"/content/NLP_PictureBook_2025/Data_PG_PT/2_NurseryRyme_Body_LeslieBrooke.txt\", 'rt')\n",
        "\n",
        "txt = file.read()\n",
        "print(txt)\n",
        "file.close() #Using this close()function, you are no longer using your text file of the current workingdirectory with open()function."
      ],
      "metadata": {
        "id": "r_tn-hJp9gje",
        "collapsed": true,
        "colab": {
          "base_uri": "https://localhost:8080/"
        },
        "outputId": "299a22e1-df57-4681-e074-d81249293284"
      },
      "execution_count": null,
      "outputs": [
        {
          "output_type": "stream",
          "name": "stdout",
          "text": [
            "[Illustration]\n",
            "\n",
            "[Illustration]\n",
            "\n",
            "[Illustration]\n",
            "\n",
            "\n",
            "\n",
            "\n",
            "THE MAN IN THE MOON.\n",
            "\n",
            "\n",
            "          The Man in the Moon\n",
            "            Came tumbling down,\n",
            "          And asked his way to Norwich;\n",
            "\n",
            "[Illustration]\n",
            "\n",
            "            They told him south,\n",
            "            And he burnt his mouth\n",
            "          With eating cold pease-porridge.\n",
            "\n",
            "[Illustration]\n",
            "\n",
            "\n",
            "\n",
            "\n",
            "TO MARKET, TO MARKET.\n",
            "\n",
            "\n",
            "          To market, to market, to buy a fat Pig;\n",
            "          Home again, home again, dancing a jig.\n",
            "\n",
            "[Illustration]\n",
            "\n",
            "[Illustration]\n",
            "\n",
            "          To market, to market, to buy a fat Hog;\n",
            "            Home again, home again, jiggety-jog.\n",
            "\n",
            "[Illustration]\n",
            "\n",
            "[Illustration]\n",
            "\n",
            "\n",
            "\n",
            "\n",
            "THERE WAS A MAN.\n",
            "\n",
            "\n",
            "          There was a man, and he had nought,\n",
            "            And robbers came to rob him;\n",
            "\n",
            "[Illustration]\n",
            "\n",
            "          He crept up to the chimney-pot,\n",
            "\n",
            "[Illustration: AND THEN THEY THOUGHT THEY HAD HIM]\n",
            "\n",
            "[Illustration: BUT HE GOT DOWN ON T'OTHER SIDE]\n",
            "\n",
            "[Illustration]\n",
            "\n",
            "          And then they could not find him;\n",
            "\n",
            "[Illustration]\n",
            "\n",
            "          He ran fourteen miles in fifteen days,\n",
            "            And never looked behind him.\n",
            "\n",
            "[Illustration]\n",
            "\n",
            "\n",
            "\n",
            "\n",
            "THE LION AND THE UNICORN.\n",
            "\n",
            "\n",
            "          The Lion and the Unicorn\n",
            "            Were fighting for the Crown;\n",
            "          The Lion beat the Unicorn\n",
            "            All round about the town.\n",
            "\n",
            "[Illustration]\n",
            "\n",
            "[Illustration]\n",
            "\n",
            "          Some gave them white bread,\n",
            "            And some gave them brown;\n",
            "          Some gave them plum-cake,\n",
            "            And sent them out of town.\n",
            "\n",
            "[Illustration]\n",
            "\n",
            "\n",
            "\n",
            "\n",
            "LITTLE MISS MUFFET.\n",
            "\n",
            "\n",
            "[Illustration]\n",
            "\n",
            "          Little Miss Muffet\n",
            "            Sat on a tuffet\n",
            "          Eating of curds and whey;\n",
            "\n",
            "[Illustration]\n",
            "\n",
            "            There came a big Spider\n",
            "            And sat down beside her,\n",
            "          And frightened Miss Muffet away.\n",
            "\n",
            "[Illustration]\n",
            "\n",
            "[Illustration]\n",
            "\n",
            "[Illustration]\n",
            "\n",
            "[Illustration: ORANGES AND LEMONS]\n",
            "\n",
            "[Illustration]\n",
            "\n",
            "\n",
            "\n",
            "\n",
            "ORANGES AND LEMONS.\n",
            "\n",
            "\n",
            "          _Gay go up, and gay go down\n",
            "          To ring the bells of London Town._\n",
            "\n",
            "[Illustration]\n",
            "\n",
            "          Bull's eyes and targets,\n",
            "          Say the bells of St. Marg'ret's.\n",
            "\n",
            "          Brickbats and tiles,\n",
            "          Say the bells of St. Giles'.\n",
            "\n",
            "          Pancakes and fritters,\n",
            "          Say the bells of St. Peter's.\n",
            "\n",
            "          Two sticks and an apple,\n",
            "          Say the bells at Whitechapel.\n",
            "\n",
            "[Illustration]\n",
            "\n",
            "          Halfpence and farthings,\n",
            "          Say the bells of St. Martin's.\n",
            "\n",
            "[Illustration]\n",
            "\n",
            "          Oranges and Lemons,\n",
            "          Say the bells of St. Clement's.\n",
            "\n",
            "[Illustration]\n",
            "\n",
            "          Old Father Baldpate,\n",
            "          Say the slow bells at Aldgate.\n",
            "\n",
            "          Pokers and tongs,\n",
            "          Say the bells of St. John's.\n",
            "\n",
            "          Kettles and pans,\n",
            "          Say the bells of St. Ann's.\n",
            "\n",
            "          You owe me ten shillings,\n",
            "          Say the bells at St. Helen's.\n",
            "\n",
            "          When will you pay me?\n",
            "          Say the bells at Old Bailey.\n",
            "\n",
            "          When I grow rich,\n",
            "          Say the bells at Shoreditch.\n",
            "\n",
            "          Pray when will that be?\n",
            "          Say the bells of Stepney.\n",
            "\n",
            "[Illustration]\n",
            "\n",
            "          I am sure I don't know,\n",
            "          Says the great bell of Bow.\n",
            "\n",
            "          _Here comes a candle to light you to bed,\n",
            "          And here comes a chopper to chop off your head._\n",
            "\n",
            "[Illustration]\n",
            "\n",
            "\n",
            "\n",
            "\n",
            "GOOSEY, GOOSEY GANDER.\n",
            "\n",
            "\n",
            "          Goosey, Goosey Gander,\n",
            "          Where shall I wander?\n",
            "\n",
            "[Illustration]\n",
            "\n",
            "          Upstairs, downstairs,\n",
            "          And in my lady's chamber.\n",
            "\n",
            "[Illustration]\n",
            "\n",
            "          There I met an old man\n",
            "            That would not say his prayers:\n",
            "          I took him by the left leg,\n",
            "            And threw him downstairs.\n",
            "\n",
            "[Illustration]\n",
            "\n",
            "[Illustration]\n",
            "\n",
            "\n",
            "\n",
            "\n",
            "HUMPTY DUMPTY.\n",
            "\n",
            "          Humpty Dumpty sat on a wall;\n",
            "\n",
            "[Illustration]\n",
            "\n",
            "          Humpty Dumpty had a great fall;\n",
            "\n",
            "[Illustration]\n",
            "\n",
            "[Illustration]\n",
            "\n",
            "[Illustration]\n",
            "\n",
            "          All the King's horses and all the King's men\n",
            "          Couldn't put Humpty Dumpty together again.\n",
            "\n",
            "[Illustration]\n",
            "\n",
            "[Illustration]\n",
            "\n",
            "[Illustration]\n",
            "\n",
            "\n",
            "\n",
            "\n",
            "BAA, BAA, BLACK SHEEP.\n",
            "\n",
            "          Baa, baa, Black Sheep,\n",
            "            Have you any wool?\n",
            "          Yes, marry, have I,\n",
            "            Three bags full:\n",
            "\n",
            "[Illustration]\n",
            "\n",
            "          One for my Master,\n",
            "            And one for my Dame,\n",
            "          And one for the little boy\n",
            "            That lives in the lane!\n",
            "\n",
            "[Illustration]\n",
            "\n",
            "[Illustration: A Present from Gotham]\n",
            "\n",
            "\n",
            "\n",
            "\n",
            "THE THREE WISE MEN OF GOTHAM.\n",
            "\n",
            "          Three wise men of Gotham\n",
            "            Went to sea in a bowl:\n",
            "\n",
            "[Illustration]\n",
            "\n",
            "          If the bowl had been stronger,\n",
            "            My song would have been longer.\n",
            "\n",
            "[Illustration]\n",
            "\n",
            "[Illustration]\n",
            "\n",
            "[Illustration]@A NURSERY RHYME@LESLIE BROOKE\n"
          ]
        }
      ]
    },
    {
      "cell_type": "markdown",
      "source": [
        "#4️⃣ 🐹🐾 **Install NLTK and Download necessary models**"
      ],
      "metadata": {
        "id": "jt3svU1cp2zm"
      }
    },
    {
      "cell_type": "code",
      "source": [
        "!pip install nltk\n",
        "import nltk\n",
        "nltk.download('punkt')\n",
        "nltk.download('punkt_tab')"
      ],
      "metadata": {
        "id": "gBwuDza2-JwS",
        "collapsed": true,
        "colab": {
          "base_uri": "https://localhost:8080/"
        },
        "outputId": "1f2723ab-1667-456e-df49-50c27dceac6d"
      },
      "execution_count": null,
      "outputs": [
        {
          "output_type": "stream",
          "name": "stdout",
          "text": [
            "Requirement already satisfied: nltk in /usr/local/lib/python3.11/dist-packages (3.9.1)\n",
            "Requirement already satisfied: click in /usr/local/lib/python3.11/dist-packages (from nltk) (8.1.8)\n",
            "Requirement already satisfied: joblib in /usr/local/lib/python3.11/dist-packages (from nltk) (1.5.0)\n",
            "Requirement already satisfied: regex>=2021.8.3 in /usr/local/lib/python3.11/dist-packages (from nltk) (2024.11.6)\n",
            "Requirement already satisfied: tqdm in /usr/local/lib/python3.11/dist-packages (from nltk) (4.67.1)\n"
          ]
        },
        {
          "output_type": "stream",
          "name": "stderr",
          "text": [
            "[nltk_data] Downloading package punkt to /root/nltk_data...\n",
            "[nltk_data]   Package punkt is already up-to-date!\n",
            "[nltk_data] Downloading package punkt_tab to /root/nltk_data...\n",
            "[nltk_data]   Package punkt_tab is already up-to-date!\n"
          ]
        },
        {
          "output_type": "execute_result",
          "data": {
            "text/plain": [
              "True"
            ]
          },
          "metadata": {},
          "execution_count": 23
        }
      ]
    },
    {
      "cell_type": "markdown",
      "source": [
        "# 5️⃣ 🐹🐾 **Just checking with tokenizing sentences**"
      ],
      "metadata": {
        "id": "pU7HuODPp4H9"
      }
    },
    {
      "cell_type": "code",
      "source": [
        "from nltk.tokenize import sent_tokenize\n",
        "sentence = sent_tokenize(txt)\n",
        "print('Sentence Tokenized: %s' %sentence)"
      ],
      "metadata": {
        "id": "6nya4AxT-2iR",
        "colab": {
          "base_uri": "https://localhost:8080/"
        },
        "outputId": "5c5447b0-b5d3-4c67-ef4d-ceec04a291e6"
      },
      "execution_count": null,
      "outputs": [
        {
          "output_type": "stream",
          "name": "stdout",
          "text": [
            "Sentence Tokenized: ['[Illustration]\\n\\n\\n\\n[Illustration]\\n\\n\\n\\n    A FARMYARD TALE\\n    FOR\\n    RALPH AND BETSY\\n\\n\\n\\n[Illustration]\\n\\nWhat a funny sight it is to see a brood of ducklings with a hen!', \"--Listen to the story of Jemima Puddle-duck, who was annoyed because the\\nfarmer's wife would not let her hatch her own eggs.\", '[Illustration]\\n\\nHer sister-in-law, Mrs. Rebeccah Puddle-duck, was perfectly willing to\\nleave the hatching to some one else--\"I have not the patience to sit on a\\nnest for twenty-eight days; and no more have you, Jemima.', 'You would let\\nthem go cold; you know you would!\"', '\"I wish to hatch my own eggs; I will hatch them all by myself,\" quacked\\nJemima Puddle-duck.', '[Illustration]\\n\\nShe tried to hide her eggs; but they were always found and carried off.', 'Jemima Puddle-duck became quite desperate.', 'She determined to make a nest\\nright away from the farm.', '[Illustration]\\n\\nShe set off on a fine spring afternoon along the cart-road that leads over\\nthe hill.', 'She was wearing a shawl and a poke bonnet.', '[Illustration]\\n\\nWhen she reached the top of the hill, she saw a wood in the distance.', 'She thought that it looked a safe quiet spot.', '[Illustration]\\n\\nJemima Puddle-duck was not much in the habit of flying.', 'She ran downhill a\\nfew yards flapping her shawl, and then she jumped off into the air.', '[Illustration]\\n\\nShe flew beautifully when she had got a good start.', 'She skimmed along over the tree-tops until she saw an open place in the\\nmiddle of the wood, where the trees and brushwood had been cleared.', '[Illustration]\\n\\nJemima alighted rather heavily, and began to waddle about in search of a\\nconvenient dry nesting-place.', 'She rather fancied a tree-stump amongst some\\ntall fox-gloves.', 'But--seated upon the stump, she was startled to find an elegantly dressed\\ngentleman reading a newspaper.', 'He had black prick ears and sandy coloured whiskers.', '\"Quack?\"', 'said Jemima Puddle-duck, with her head and her bonnet on one\\nside--\"Quack?\"', '[Illustration]\\n\\nThe gentleman raised his eyes above his newspaper and looked curiously at\\nJemima--\\n\\n\"Madam, have you lost your way?\"', 'said he.', 'He had a long bushy tail which\\nhe was sitting upon, as the stump was somewhat damp.', 'Jemima thought him mighty civil and handsome.', 'She explained that she had\\nnot lost her way, but that she was trying to find a convenient dry\\nnesting-place.', '[Illustration]\\n\\n\"Ah!', 'is that so?', 'indeed!\"', 'said the gentleman with sandy whiskers, looking\\ncuriously at Jemima.', 'He folded up the newspaper, and put it in his\\ncoat-tail pocket.', 'Jemima complained of the superfluous hen.', '\"Indeed!', 'how interesting!', 'I wish I could meet with that fowl.', 'I would\\nteach it to mind its own business!\"', '[Illustration]\\n\\n\"But as to a nest--there is no difficulty: I have a sackful of feathers in\\nmy wood-shed.', \"No, my dear madam, you will be in nobody's way.\", 'You may sit\\nthere as long as you like,\" said the bushy long-tailed gentleman.', 'He led the way to a very retired, dismal-looking house amongst the\\nfox-gloves.', 'It was built of faggots and turf, and there were two broken pails, one on\\ntop of another, by way of a chimney.', '[Illustration]\\n\\n\"This is my summer residence; you would not find my earth--my winter\\nhouse--so convenient,\" said the hospitable gentleman.', 'There was a tumble-down shed at the back of the house, made of old\\nsoap-boxes.', 'The gentleman opened the door, and showed Jemima in.', '[Illustration]\\n\\nThe shed was almost quite full of feathers--it was almost suffocating; but\\nit was comfortable and very soft.', 'Jemima Puddle-duck was rather surprised to find such a vast quantity of\\nfeathers.', 'But it was very comfortable; and she made a nest without any\\ntrouble at all.', '[Illustration]\\n\\nWhen she came out, the sandy whiskered gentleman was sitting on a log\\nreading the newspaper--at least he had it spread out, but he was looking\\nover the top of it.', 'He was so polite, that he seemed almost sorry to let Jemima go home for\\nthe night.', 'He promised to take great care of her nest until she came back\\nagain next day.', 'He said he loved eggs and ducklings; he should be proud to see a fine\\nnestful in his wood-shed.', '[Illustration]\\n\\nJemima Puddle-duck came every afternoon; she laid nine eggs in the nest.', 'They were greeny white and very large.', 'The foxy gentleman admired them\\nimmensely.', 'He used to turn them over and count them when Jemima was not\\nthere.', 'At last Jemima told him that she intended to begin to sit next day--\"and I\\nwill bring a bag of corn with me, so that I need never leave my nest until\\nthe eggs are hatched.', 'They might catch cold,\" said the conscientious\\nJemima.', '[Illustration]\\n\\n\"Madam, I beg you not to trouble yourself with a bag; I will provide oats.', 'But before you commence your tedious sitting, I intend to give you a\\ntreat.', 'Let us have a dinner-party all to ourselves!', '\"May I ask you to bring up some herbs from the farm-garden to make a\\nsavoury omelette?', 'Sage and thyme, and mint and two onions, and some\\nparsley.', 'I will provide lard for the stuff--lard for the omelette,\" said\\nthe hospitable gentleman with sandy whiskers.', '[Illustration]\\n\\nJemima Puddle-duck was a simpleton: not even the mention of sage and\\nonions made her suspicious.', 'She went round the farm-garden, nibbling off snippets of all the different\\nsorts of herbs that are used for stuffing roast duck.', '[Illustration]\\n\\nAnd she waddled into the kitchen, and got two onions out of a basket.', 'The collie-dog Kep met her coming out, \"What are you doing with those\\nonions?', 'Where do you go every afternoon by yourself, Jemima Puddle-duck?\"', 'Jemima was rather in awe of the collie; she told him the whole story.', 'The collie listened, with his wise head on one side; he grinned when she\\ndescribed the polite gentleman with sandy whiskers.', '[Illustration]\\n\\nHe asked several questions about the wood, and about the exact position of\\nthe house and shed.', 'Then he went out, and trotted down the village.', 'He went to look for two\\nfox-hound puppies who were out at walk with the butcher.', '[Illustration]\\n\\nJemima Puddle-duck went up the cart-road for the last time, on a sunny\\nafternoon.', 'She was rather burdened with bunches of herbs and two onions in\\na bag.', 'She flew over the wood, and alighted opposite the house of the bushy\\nlong-tailed gentleman.', '[Illustration]\\n\\nHe was sitting on a log; he sniffed the air, and kept glancing uneasily\\nround the wood.', 'When Jemima alighted he quite jumped.', '\"Come into the house as soon as you have looked at your eggs.', 'Give me the\\nherbs for the omelette.', 'Be sharp!\"', 'He was rather abrupt.', 'Jemima Puddle-duck had never heard him speak like\\nthat.', 'She felt surprised, and uncomfortable.', '[Illustration]\\n\\nWhile she was inside she heard pattering feet round the back of the shed.', 'Some one with a black nose sniffed at the bottom of the door, and then\\nlocked it.', 'Jemima became much alarmed.', '[Illustration]\\n\\nA moment afterwards there were most awful noises--barking, baying, growls\\nand howls, squealing and groans.', 'And nothing more was ever seen of that foxy-whiskered gentleman.', 'Presently Kep opened the door of the shed, and let out Jemima Puddle-duck.', '[Illustration]\\n\\nUnfortunately the puppies rushed in and gobbled up all the eggs before he\\ncould stop them.', 'He had a bite on his ear and both the puppies were limping.', '[Illustration]\\n\\nJemima Puddle-duck was escorted home in tears on account of those eggs.', '[Illustration]\\n\\nShe laid some more in June, and she was permitted to keep them herself:\\nbut only four of them hatched.', 'Jemima Puddle-duck said that it was because of her nerves; but she had\\nalways been a bad sitter.', '@THE TALE OF JEMIMA PUDDLE-DUCK@BEATRIX POTTER']\n"
          ]
        }
      ]
    },
    {
      "cell_type": "markdown",
      "source": [
        "# 6️⃣ 📍📍 **Apply a series of functions for replacement**"
      ],
      "metadata": {
        "id": "s9pIkCMfI-oc"
      }
    },
    {
      "cell_type": "code",
      "source": [
        "import re\n",
        "\n",
        "# ▶️ Step 1: Read file to change path as needed 🍩\n",
        "with open(\"/content/NLP_PictureBook_2025/Data_PG_PT/2_NurseryRyme_Body_LeslieBrooke.txt\", 'rt') as fl:\n",
        "    raw_text = fl.read()\n",
        "\n",
        "# ▶️ STEP 2: Clean the text\n",
        "clean_text = (\n",
        "    raw_text\n",
        "    .lower()\n",
        "    .replace(\"\\n\", \" \")\n",
        "    .replace(\"“\", \"\")\n",
        "    .replace(\"”\", \"\")\n",
        "    .replace(\"\\\"\", \"\")\n",
        "    .replace(\"_\", \"\")\n",
        "    .replace(\"[illustration]\", \"\")\n",
        "    .replace(\"*\", \"\")\n",
        "    .replace(\".\", \"\")\n",
        "    .replace(\",\", \"\")\n",
        "    .replace(\"(\", \"\")\n",
        "    .replace(\")\", \"\")\n",
        ")\n",
        "\n",
        "# ▶️ STEP 3: Save the cleaned content to a NEW file 🍩\n",
        "output_path = \"/content/NLP_PictureBook_2025/Data_PG_Clean/2_NurseryRyme_CLEANED.txt\"\n",
        "with open(output_path, 'w') as cf:\n",
        "    cf.write(clean_text) #Get content named 'clean_text' to the new empty file\n",
        "\n",
        "# ▶️ Optional: Print to verify\n",
        "print(\"✅ Cleaned text saved to:\", output_path)"
      ],
      "metadata": {
        "colab": {
          "base_uri": "https://localhost:8080/"
        },
        "id": "9l6dyLoYImhx",
        "outputId": "be33a7bf-04c0-4d2d-b393-bff2ea8d9fac"
      },
      "execution_count": null,
      "outputs": [
        {
          "output_type": "stream",
          "name": "stdout",
          "text": [
            "✅ Cleaned text saved to: /content/NLP_PictureBook_2025/Data_PG_Clean/2_NurseryRyme_CLEANED.txt\n"
          ]
        }
      ]
    },
    {
      "cell_type": "markdown",
      "source": [
        "# 7️⃣ 🐹🐾 **Just cheking the result file with cleaning applied**\n",
        "- **Sentence Tokenization**\n",
        "- **Tokenizing Words with Regular Tokenizer**\n",
        "- **Get tokenized words put in sequence**"
      ],
      "metadata": {
        "id": "SACJ4rQ5qPo-"
      }
    },
    {
      "cell_type": "code",
      "source": [
        "from nltk.tokenize import sent_tokenize\n",
        "\n",
        "sentence = sent_tokenize(clean_text)\n",
        "print('Sentence Tokenized: %s' %sentence)\n",
        "\n",
        "from nltk.tokenize import RegexpTokenizer #RegexpTokenizer as a class\n",
        "import re\n",
        "\n",
        "tok = RegexpTokenizer(\"[\\w]+\") # Alert: You cannot use RegexpTokenizer() without argument. You need a regexpression formula.\n",
        "\n",
        "tk = tok.tokenize(clean_text)\n",
        "print('Tokenizing Words with RegexpTokenizer: %s' %tk)\n",
        "\n",
        "print(' '.join(tk)) #small characters\n",
        "#alternatively, use the codeline of ' '.join(tkn)"
      ],
      "metadata": {
        "colab": {
          "base_uri": "https://localhost:8080/"
        },
        "id": "ctwXWSdaKxBf",
        "outputId": "b75d1a42-17ad-4d6e-880b-95424c824036"
      },
      "execution_count": null,
      "outputs": [
        {
          "output_type": "stream",
          "name": "stdout",
          "text": [
            "Sentence Tokenized: [\"text@title@author   one morning a little rabbit sat on a bank  he pricked his ears and listened to the trit-trot trit-trot of a pony  a gig was coming along the road; it was driven by mr mcgregor and beside him sat mrs mcgregor in her best bonnet  as soon as they had passed little benjamin bunny slid down into the road and set off--with a hop skip and a jump--to call upon his relations who lived in the wood at the back of mr mcgregor's garden      that wood was full of rabbit holes; and in the neatest sandiest hole of all lived benjamin's aunt and his cousins--flopsy mopsy cotton-tail and peter  old mrs rabbit was a widow; she earned her living by knitting rabbit-wool mittens and muffatees i once bought a pair at a bazaar she also sold herbs and rosemary tea and rabbit-tobacco which is what we call lavender  little benjamin did not very much want to see his aunt  he came round the back of the fir-tree and nearly tumbled upon the top of his cousin peter      peter was sitting by himself he looked poorly and was dressed in a red cotton pocket-handkerchief  peter said little benjamin in a whisper who has got your clothes?\", \"peter replied the scarecrow in mr mcgregor's garden and described how he had been chased about the garden and had dropped his shoes and coat  little benjamin sat down beside his cousin and assured him that mr mcgregor had gone out in a gig and mrs mcgregor also; and certainly for the day because she was wearing her best bonnet      peter said he hoped that it would rain  at this point old mrs rabbit's voice was heard inside the rabbit hole calling: cotton-tail!\", 'cotton-tail!', 'fetch some more camomile!', \"peter said he thought he might feel better if he went for a walk  they went away hand in hand and got upon the flat top of the wall at the bottom of the wood from here they looked down into mr mcgregor's garden peter's coat and shoes were plainly to be seen upon the scarecrow topped with an old tam-o'-shanter of mr mcgregor's      little benjamin said: it spoils people's clothes to squeeze under a gate; the proper way to get in is to climb down a pear-tree  peter fell down head first; but it was of no consequence as the bed below was newly raked and quite soft  it had been sown with lettuces  they left a great many odd little footmarks all over the bed especially little benjamin who was wearing clogs      little benjamin said that the first thing to be done was to get back peter's clothes in order that they might be able to use the pocket-handkerchief  they took them off the scarecrow there had been rain during the night; there was water in the shoes and the coat was somewhat shrunk  benjamin tried on the tam-o'-shanter but it was too big for him  then he suggested that they should fill the pocket-handkerchief with onions as a little present for his aunt  peter did not seem to be enjoying himself; he kept hearing noises       benjamin on the contrary was perfectly at home and ate a lettuce leaf he said that he was in the habit of coming to the garden with his father to get lettuces for their sunday dinner  the name of little benjamin's papa was old mr benjamin bunny  the lettuces certainly were very fine  peter did not eat anything; he said he should like to go home presently he dropped half the onions      little benjamin said that it was not possible to get back up the pear-tree with a load of vegetables he led the way boldly towards the other end of the garden they went along a little walk on planks under a sunny red brick wall  the mice sat on their doorsteps cracking cherry-stones; they winked at peter rabbit and little benjamin bunny  presently peter let the pocket-handkerchief go again      they got amongst flower-pots and frames and tubs peter heard noises worse than ever; his eyes were as big as lolly-pops!\", 'he was a step or two in front of his cousin when he suddenly stopped  this is what those little rabbits saw round that corner!', 'little benjamin took one look and then in half a minute less than no time he hid himself and peter and the onions underneath a large basket      the cat got up and stretched herself and came and sniffed at the basket  perhaps she liked the smell of onions!', 'anyway she sat down upon the top of the basket  she sat there for five hours                                       i cannot draw you a picture of peter and benjamin underneath the basket because it was quite dark and because the smell of onions was fearful; it made peter rabbit and little benjamin cry  the sun got round behind the wood and it was quite late in the afternoon; but still the cat sat upon the basket      at length there was a pitter-patter pitter-patter and some bits of mortar fell from the wall above  the cat looked up and saw old mr benjamin bunny prancing along the top of the wall of the upper terrace  he was smoking a pipe of rabbit-tobacco and had a little switch in his hand  he was looking for his son  old mr bunny had no opinion whatever of cats  he took a tremendous jump off the top of the wall on to the top of the cat and cuffed it off the basket and kicked it into the greenhouse scratching off a handful of fur  the cat was too much surprised to scratch back      when old mr bunny had driven the cat into the greenhouse he locked the door  then he came back to the basket and took out his son benjamin by the ears and whipped him with the little switch  then he took out his nephew peter  then he took out the handkerchief of onions and marched out of the garden    when mr mcgregor returned about half an hour later he observed several things which perplexed him  it looked as though some person had been walking all over the garden in a pair of clogs--only the footmarks were too ridiculously little!', 'also he could not understand how the cat could have managed to shut herself up inside the greenhouse locking the door upon the outside      when peter got home his mother forgave him because she was so glad to see that he had found his shoes and coat cotton-tail and peter folded up the pocket-handkerchief and old mrs rabbit strung up the onions and hung them from the kitchen ceiling with the bunches of herbs and the rabbit-tobacco@the tale of benjamin bunny@beatrix potter']\n",
            "Tokenizing Words with RegexpTokenizer: ['text', 'title', 'author', 'one', 'morning', 'a', 'little', 'rabbit', 'sat', 'on', 'a', 'bank', 'he', 'pricked', 'his', 'ears', 'and', 'listened', 'to', 'the', 'trit', 'trot', 'trit', 'trot', 'of', 'a', 'pony', 'a', 'gig', 'was', 'coming', 'along', 'the', 'road', 'it', 'was', 'driven', 'by', 'mr', 'mcgregor', 'and', 'beside', 'him', 'sat', 'mrs', 'mcgregor', 'in', 'her', 'best', 'bonnet', 'as', 'soon', 'as', 'they', 'had', 'passed', 'little', 'benjamin', 'bunny', 'slid', 'down', 'into', 'the', 'road', 'and', 'set', 'off', 'with', 'a', 'hop', 'skip', 'and', 'a', 'jump', 'to', 'call', 'upon', 'his', 'relations', 'who', 'lived', 'in', 'the', 'wood', 'at', 'the', 'back', 'of', 'mr', 'mcgregor', 's', 'garden', 'that', 'wood', 'was', 'full', 'of', 'rabbit', 'holes', 'and', 'in', 'the', 'neatest', 'sandiest', 'hole', 'of', 'all', 'lived', 'benjamin', 's', 'aunt', 'and', 'his', 'cousins', 'flopsy', 'mopsy', 'cotton', 'tail', 'and', 'peter', 'old', 'mrs', 'rabbit', 'was', 'a', 'widow', 'she', 'earned', 'her', 'living', 'by', 'knitting', 'rabbit', 'wool', 'mittens', 'and', 'muffatees', 'i', 'once', 'bought', 'a', 'pair', 'at', 'a', 'bazaar', 'she', 'also', 'sold', 'herbs', 'and', 'rosemary', 'tea', 'and', 'rabbit', 'tobacco', 'which', 'is', 'what', 'we', 'call', 'lavender', 'little', 'benjamin', 'did', 'not', 'very', 'much', 'want', 'to', 'see', 'his', 'aunt', 'he', 'came', 'round', 'the', 'back', 'of', 'the', 'fir', 'tree', 'and', 'nearly', 'tumbled', 'upon', 'the', 'top', 'of', 'his', 'cousin', 'peter', 'peter', 'was', 'sitting', 'by', 'himself', 'he', 'looked', 'poorly', 'and', 'was', 'dressed', 'in', 'a', 'red', 'cotton', 'pocket', 'handkerchief', 'peter', 'said', 'little', 'benjamin', 'in', 'a', 'whisper', 'who', 'has', 'got', 'your', 'clothes', 'peter', 'replied', 'the', 'scarecrow', 'in', 'mr', 'mcgregor', 's', 'garden', 'and', 'described', 'how', 'he', 'had', 'been', 'chased', 'about', 'the', 'garden', 'and', 'had', 'dropped', 'his', 'shoes', 'and', 'coat', 'little', 'benjamin', 'sat', 'down', 'beside', 'his', 'cousin', 'and', 'assured', 'him', 'that', 'mr', 'mcgregor', 'had', 'gone', 'out', 'in', 'a', 'gig', 'and', 'mrs', 'mcgregor', 'also', 'and', 'certainly', 'for', 'the', 'day', 'because', 'she', 'was', 'wearing', 'her', 'best', 'bonnet', 'peter', 'said', 'he', 'hoped', 'that', 'it', 'would', 'rain', 'at', 'this', 'point', 'old', 'mrs', 'rabbit', 's', 'voice', 'was', 'heard', 'inside', 'the', 'rabbit', 'hole', 'calling', 'cotton', 'tail', 'cotton', 'tail', 'fetch', 'some', 'more', 'camomile', 'peter', 'said', 'he', 'thought', 'he', 'might', 'feel', 'better', 'if', 'he', 'went', 'for', 'a', 'walk', 'they', 'went', 'away', 'hand', 'in', 'hand', 'and', 'got', 'upon', 'the', 'flat', 'top', 'of', 'the', 'wall', 'at', 'the', 'bottom', 'of', 'the', 'wood', 'from', 'here', 'they', 'looked', 'down', 'into', 'mr', 'mcgregor', 's', 'garden', 'peter', 's', 'coat', 'and', 'shoes', 'were', 'plainly', 'to', 'be', 'seen', 'upon', 'the', 'scarecrow', 'topped', 'with', 'an', 'old', 'tam', 'o', 'shanter', 'of', 'mr', 'mcgregor', 's', 'little', 'benjamin', 'said', 'it', 'spoils', 'people', 's', 'clothes', 'to', 'squeeze', 'under', 'a', 'gate', 'the', 'proper', 'way', 'to', 'get', 'in', 'is', 'to', 'climb', 'down', 'a', 'pear', 'tree', 'peter', 'fell', 'down', 'head', 'first', 'but', 'it', 'was', 'of', 'no', 'consequence', 'as', 'the', 'bed', 'below', 'was', 'newly', 'raked', 'and', 'quite', 'soft', 'it', 'had', 'been', 'sown', 'with', 'lettuces', 'they', 'left', 'a', 'great', 'many', 'odd', 'little', 'footmarks', 'all', 'over', 'the', 'bed', 'especially', 'little', 'benjamin', 'who', 'was', 'wearing', 'clogs', 'little', 'benjamin', 'said', 'that', 'the', 'first', 'thing', 'to', 'be', 'done', 'was', 'to', 'get', 'back', 'peter', 's', 'clothes', 'in', 'order', 'that', 'they', 'might', 'be', 'able', 'to', 'use', 'the', 'pocket', 'handkerchief', 'they', 'took', 'them', 'off', 'the', 'scarecrow', 'there', 'had', 'been', 'rain', 'during', 'the', 'night', 'there', 'was', 'water', 'in', 'the', 'shoes', 'and', 'the', 'coat', 'was', 'somewhat', 'shrunk', 'benjamin', 'tried', 'on', 'the', 'tam', 'o', 'shanter', 'but', 'it', 'was', 'too', 'big', 'for', 'him', 'then', 'he', 'suggested', 'that', 'they', 'should', 'fill', 'the', 'pocket', 'handkerchief', 'with', 'onions', 'as', 'a', 'little', 'present', 'for', 'his', 'aunt', 'peter', 'did', 'not', 'seem', 'to', 'be', 'enjoying', 'himself', 'he', 'kept', 'hearing', 'noises', 'benjamin', 'on', 'the', 'contrary', 'was', 'perfectly', 'at', 'home', 'and', 'ate', 'a', 'lettuce', 'leaf', 'he', 'said', 'that', 'he', 'was', 'in', 'the', 'habit', 'of', 'coming', 'to', 'the', 'garden', 'with', 'his', 'father', 'to', 'get', 'lettuces', 'for', 'their', 'sunday', 'dinner', 'the', 'name', 'of', 'little', 'benjamin', 's', 'papa', 'was', 'old', 'mr', 'benjamin', 'bunny', 'the', 'lettuces', 'certainly', 'were', 'very', 'fine', 'peter', 'did', 'not', 'eat', 'anything', 'he', 'said', 'he', 'should', 'like', 'to', 'go', 'home', 'presently', 'he', 'dropped', 'half', 'the', 'onions', 'little', 'benjamin', 'said', 'that', 'it', 'was', 'not', 'possible', 'to', 'get', 'back', 'up', 'the', 'pear', 'tree', 'with', 'a', 'load', 'of', 'vegetables', 'he', 'led', 'the', 'way', 'boldly', 'towards', 'the', 'other', 'end', 'of', 'the', 'garden', 'they', 'went', 'along', 'a', 'little', 'walk', 'on', 'planks', 'under', 'a', 'sunny', 'red', 'brick', 'wall', 'the', 'mice', 'sat', 'on', 'their', 'doorsteps', 'cracking', 'cherry', 'stones', 'they', 'winked', 'at', 'peter', 'rabbit', 'and', 'little', 'benjamin', 'bunny', 'presently', 'peter', 'let', 'the', 'pocket', 'handkerchief', 'go', 'again', 'they', 'got', 'amongst', 'flower', 'pots', 'and', 'frames', 'and', 'tubs', 'peter', 'heard', 'noises', 'worse', 'than', 'ever', 'his', 'eyes', 'were', 'as', 'big', 'as', 'lolly', 'pops', 'he', 'was', 'a', 'step', 'or', 'two', 'in', 'front', 'of', 'his', 'cousin', 'when', 'he', 'suddenly', 'stopped', 'this', 'is', 'what', 'those', 'little', 'rabbits', 'saw', 'round', 'that', 'corner', 'little', 'benjamin', 'took', 'one', 'look', 'and', 'then', 'in', 'half', 'a', 'minute', 'less', 'than', 'no', 'time', 'he', 'hid', 'himself', 'and', 'peter', 'and', 'the', 'onions', 'underneath', 'a', 'large', 'basket', 'the', 'cat', 'got', 'up', 'and', 'stretched', 'herself', 'and', 'came', 'and', 'sniffed', 'at', 'the', 'basket', 'perhaps', 'she', 'liked', 'the', 'smell', 'of', 'onions', 'anyway', 'she', 'sat', 'down', 'upon', 'the', 'top', 'of', 'the', 'basket', 'she', 'sat', 'there', 'for', 'five', 'hours', 'i', 'cannot', 'draw', 'you', 'a', 'picture', 'of', 'peter', 'and', 'benjamin', 'underneath', 'the', 'basket', 'because', 'it', 'was', 'quite', 'dark', 'and', 'because', 'the', 'smell', 'of', 'onions', 'was', 'fearful', 'it', 'made', 'peter', 'rabbit', 'and', 'little', 'benjamin', 'cry', 'the', 'sun', 'got', 'round', 'behind', 'the', 'wood', 'and', 'it', 'was', 'quite', 'late', 'in', 'the', 'afternoon', 'but', 'still', 'the', 'cat', 'sat', 'upon', 'the', 'basket', 'at', 'length', 'there', 'was', 'a', 'pitter', 'patter', 'pitter', 'patter', 'and', 'some', 'bits', 'of', 'mortar', 'fell', 'from', 'the', 'wall', 'above', 'the', 'cat', 'looked', 'up', 'and', 'saw', 'old', 'mr', 'benjamin', 'bunny', 'prancing', 'along', 'the', 'top', 'of', 'the', 'wall', 'of', 'the', 'upper', 'terrace', 'he', 'was', 'smoking', 'a', 'pipe', 'of', 'rabbit', 'tobacco', 'and', 'had', 'a', 'little', 'switch', 'in', 'his', 'hand', 'he', 'was', 'looking', 'for', 'his', 'son', 'old', 'mr', 'bunny', 'had', 'no', 'opinion', 'whatever', 'of', 'cats', 'he', 'took', 'a', 'tremendous', 'jump', 'off', 'the', 'top', 'of', 'the', 'wall', 'on', 'to', 'the', 'top', 'of', 'the', 'cat', 'and', 'cuffed', 'it', 'off', 'the', 'basket', 'and', 'kicked', 'it', 'into', 'the', 'greenhouse', 'scratching', 'off', 'a', 'handful', 'of', 'fur', 'the', 'cat', 'was', 'too', 'much', 'surprised', 'to', 'scratch', 'back', 'when', 'old', 'mr', 'bunny', 'had', 'driven', 'the', 'cat', 'into', 'the', 'greenhouse', 'he', 'locked', 'the', 'door', 'then', 'he', 'came', 'back', 'to', 'the', 'basket', 'and', 'took', 'out', 'his', 'son', 'benjamin', 'by', 'the', 'ears', 'and', 'whipped', 'him', 'with', 'the', 'little', 'switch', 'then', 'he', 'took', 'out', 'his', 'nephew', 'peter', 'then', 'he', 'took', 'out', 'the', 'handkerchief', 'of', 'onions', 'and', 'marched', 'out', 'of', 'the', 'garden', 'when', 'mr', 'mcgregor', 'returned', 'about', 'half', 'an', 'hour', 'later', 'he', 'observed', 'several', 'things', 'which', 'perplexed', 'him', 'it', 'looked', 'as', 'though', 'some', 'person', 'had', 'been', 'walking', 'all', 'over', 'the', 'garden', 'in', 'a', 'pair', 'of', 'clogs', 'only', 'the', 'footmarks', 'were', 'too', 'ridiculously', 'little', 'also', 'he', 'could', 'not', 'understand', 'how', 'the', 'cat', 'could', 'have', 'managed', 'to', 'shut', 'herself', 'up', 'inside', 'the', 'greenhouse', 'locking', 'the', 'door', 'upon', 'the', 'outside', 'when', 'peter', 'got', 'home', 'his', 'mother', 'forgave', 'him', 'because', 'she', 'was', 'so', 'glad', 'to', 'see', 'that', 'he', 'had', 'found', 'his', 'shoes', 'and', 'coat', 'cotton', 'tail', 'and', 'peter', 'folded', 'up', 'the', 'pocket', 'handkerchief', 'and', 'old', 'mrs', 'rabbit', 'strung', 'up', 'the', 'onions', 'and', 'hung', 'them', 'from', 'the', 'kitchen', 'ceiling', 'with', 'the', 'bunches', 'of', 'herbs', 'and', 'the', 'rabbit', 'tobacco', 'the', 'tale', 'of', 'benjamin', 'bunny', 'beatrix', 'potter']\n",
            "text title author one morning a little rabbit sat on a bank he pricked his ears and listened to the trit trot trit trot of a pony a gig was coming along the road it was driven by mr mcgregor and beside him sat mrs mcgregor in her best bonnet as soon as they had passed little benjamin bunny slid down into the road and set off with a hop skip and a jump to call upon his relations who lived in the wood at the back of mr mcgregor s garden that wood was full of rabbit holes and in the neatest sandiest hole of all lived benjamin s aunt and his cousins flopsy mopsy cotton tail and peter old mrs rabbit was a widow she earned her living by knitting rabbit wool mittens and muffatees i once bought a pair at a bazaar she also sold herbs and rosemary tea and rabbit tobacco which is what we call lavender little benjamin did not very much want to see his aunt he came round the back of the fir tree and nearly tumbled upon the top of his cousin peter peter was sitting by himself he looked poorly and was dressed in a red cotton pocket handkerchief peter said little benjamin in a whisper who has got your clothes peter replied the scarecrow in mr mcgregor s garden and described how he had been chased about the garden and had dropped his shoes and coat little benjamin sat down beside his cousin and assured him that mr mcgregor had gone out in a gig and mrs mcgregor also and certainly for the day because she was wearing her best bonnet peter said he hoped that it would rain at this point old mrs rabbit s voice was heard inside the rabbit hole calling cotton tail cotton tail fetch some more camomile peter said he thought he might feel better if he went for a walk they went away hand in hand and got upon the flat top of the wall at the bottom of the wood from here they looked down into mr mcgregor s garden peter s coat and shoes were plainly to be seen upon the scarecrow topped with an old tam o shanter of mr mcgregor s little benjamin said it spoils people s clothes to squeeze under a gate the proper way to get in is to climb down a pear tree peter fell down head first but it was of no consequence as the bed below was newly raked and quite soft it had been sown with lettuces they left a great many odd little footmarks all over the bed especially little benjamin who was wearing clogs little benjamin said that the first thing to be done was to get back peter s clothes in order that they might be able to use the pocket handkerchief they took them off the scarecrow there had been rain during the night there was water in the shoes and the coat was somewhat shrunk benjamin tried on the tam o shanter but it was too big for him then he suggested that they should fill the pocket handkerchief with onions as a little present for his aunt peter did not seem to be enjoying himself he kept hearing noises benjamin on the contrary was perfectly at home and ate a lettuce leaf he said that he was in the habit of coming to the garden with his father to get lettuces for their sunday dinner the name of little benjamin s papa was old mr benjamin bunny the lettuces certainly were very fine peter did not eat anything he said he should like to go home presently he dropped half the onions little benjamin said that it was not possible to get back up the pear tree with a load of vegetables he led the way boldly towards the other end of the garden they went along a little walk on planks under a sunny red brick wall the mice sat on their doorsteps cracking cherry stones they winked at peter rabbit and little benjamin bunny presently peter let the pocket handkerchief go again they got amongst flower pots and frames and tubs peter heard noises worse than ever his eyes were as big as lolly pops he was a step or two in front of his cousin when he suddenly stopped this is what those little rabbits saw round that corner little benjamin took one look and then in half a minute less than no time he hid himself and peter and the onions underneath a large basket the cat got up and stretched herself and came and sniffed at the basket perhaps she liked the smell of onions anyway she sat down upon the top of the basket she sat there for five hours i cannot draw you a picture of peter and benjamin underneath the basket because it was quite dark and because the smell of onions was fearful it made peter rabbit and little benjamin cry the sun got round behind the wood and it was quite late in the afternoon but still the cat sat upon the basket at length there was a pitter patter pitter patter and some bits of mortar fell from the wall above the cat looked up and saw old mr benjamin bunny prancing along the top of the wall of the upper terrace he was smoking a pipe of rabbit tobacco and had a little switch in his hand he was looking for his son old mr bunny had no opinion whatever of cats he took a tremendous jump off the top of the wall on to the top of the cat and cuffed it off the basket and kicked it into the greenhouse scratching off a handful of fur the cat was too much surprised to scratch back when old mr bunny had driven the cat into the greenhouse he locked the door then he came back to the basket and took out his son benjamin by the ears and whipped him with the little switch then he took out his nephew peter then he took out the handkerchief of onions and marched out of the garden when mr mcgregor returned about half an hour later he observed several things which perplexed him it looked as though some person had been walking all over the garden in a pair of clogs only the footmarks were too ridiculously little also he could not understand how the cat could have managed to shut herself up inside the greenhouse locking the door upon the outside when peter got home his mother forgave him because she was so glad to see that he had found his shoes and coat cotton tail and peter folded up the pocket handkerchief and old mrs rabbit strung up the onions and hung them from the kitchen ceiling with the bunches of herbs and the rabbit tobacco the tale of benjamin bunny beatrix potter\n"
          ]
        }
      ]
    },
    {
      "cell_type": "markdown",
      "source": [
        "#⚠️ <font color = 'green'>**This is the end of the Script! You did a good job!** **"
      ],
      "metadata": {
        "id": "DUcWWwfGCGf7"
      }
    }
  ]
}